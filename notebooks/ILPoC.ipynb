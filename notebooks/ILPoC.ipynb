{
    "cells": [
     {
      "cell_type": "markdown",
      "metadata": {
       "vscode": {
        "languageId": "plaintext"
       }
      },
      "source": [
       "# Introduction\n",
       "\n",
       "Bienvenue dans ce notebook dédié au patching des instructions IL (Intermediate Language) dans le décompilateur **Binary Ninja** !! <br>\n",
       "\n",
       "L'objectif principal de ce module est d'explorer les possibilités de réécriture des analyses fournies par Binary Ninja afin d'y ajouter des fonctionnalités personnalisées. <br>\n",
       "Dans notre contexte, cela inclut notamment des manipulations proches de ce que fait d810 avec le **Microcode** d'IDA Pro.\n",
       "\n",
       "Le but ultime est d'examiner si nos modifications influencent l'analyse globale et ses résultats. <br>\n",
       "Pour une approche méthodique et structurée, le contenu de ce notebook est organisé en plusieurs sections claires.\n",
       "\n",
       "## Plan\n",
       "\n",
       "1. [L'Intermediate Language (IL) dans Binary Ninja](#LIntermediate-Language-(IL)-dans-Binary-Ninja)\n",
       "2. [Visualisation des instructions IL](#Visualisation-des-instructions-IL)\n",
       "3. [Parcours et analyse de fonctions](#Parcours-et-analyse-de-fonctions)\n",
       "4. [Patching basique](#Patching-basique)"
      ]
     },
     {
      "cell_type": "markdown",
      "metadata": {},
      "source": [
       "## L'Intermediate Language (IL) dans Binary Ninja\n",
       "\n",
       "Binary Ninja uses several intermediate languages (ILs) to represent binary code at different levels of abstraction. <br>\n",
       "The Low-Level Intermediate Language (LLIL) is a crucial part of this infrastructure, providing a detailed and precise representation of binary instructions. <br>\n",
       "\n",
       "* LLIL Overview: LLIL is a machine-independent representation of binary instructions, designed to facilitate binary analysis.\n",
       "* Importance of LLIL: LLIL enables fine-grained analysis and manipulation of binary code, making it an essential tool for reverse engineering and binary patching.\n",
       "\n",
       "![overview](https://docs.binary.ninja/img/BNIL-overview.png)\n",
       "\n",
       "> [!WARNING] \n",
       "> Binary Ninja has a very good user documentation that you can read to find out more about BNIL. \n",
       "> Link: https://docs.binary.ninja/dev/bnil-overview.html"
      ]
     },
     {
      "cell_type": "markdown",
      "metadata": {},
      "source": [
       "## Visualisation des instructions IL\n",
       "\n",
       "Pour une compréhension optimale des concepts, l'utilisation de schémas, de graphiques ou de supports visuels s'avère souvent bien plus efficace. Ainsi, afin d'illustrer concrètement le fonctionnement de l'Intermediate Language (IL) dans Binary Ninja, nous allons nous concentrer sur des fonctions simples mettant en œuvre des notions élémentaires d'arithmétique ainsi qu'un peu de langage C.\n",
       "\n",
       "Ces fonctions incluront des éléments tels que des boucles, la récursivité, des macros ou encore des appels à `printf`. <br>\n",
       "L'objectif ici est d'implémenter quelques routines permettant d'extraire et d'afficher les informations clés du Low-Level IL (LLIL). <br>\n",
       "\n",
       "Ces informations incluent, entre autres :\n",
       "- Les **opérations** effectuées,\n",
       "- Les **flags** modifiés ou utilisés,\n",
       "- Les **registres** manipulés,\n",
       "- Les **instructions** analysées.\n",
       "\n",
       "Ces données sont essentielles pour comprendre et représenter les interactions et le flux de contrôle qui seront examinés dans les sections suivantes. <br>\n",
       "Cette approche visuelle et interactive permettra également de mieux appréhender le rôle de chaque instruction dans l'analyse globale. "
      ]
     },
     {
      "cell_type": "markdown",
      "metadata": {},
      "source": [
       "<br><br>\n",
       "Cette fonction imprime une indentation (sous forme de 4 espaces) en fonction du niveau spécifié par le paramètre indent. Elle est utilisée pour organiser la sortie textuelle de manière hiérarchique et lisible."
      ]
     },
     {
      "cell_type": "code",
      "execution_count": null,
      "metadata": {
       "vscode": {
        "languageId": "cpp"
       }
      },
      "outputs": [],
      "source": [
       "void PrintIndent(const size_t indent) {\n",
       "    for (size_t i = 0; i < indent; i++)\n",
       "        printf(\"    \");\n",
       "}"
      ]
     },
     {
      "cell_type": "markdown",
      "metadata": {},
      "source": [
       "<br><br>\n",
       "Cette macro facilite l'affichage des noms des opérations. Elle prend une opération comme paramètre, et son utilisation dans un switch permet d'imprimer directement le nom de l'opération en tant que chaîne de caractères. Cela améliore la lisibilité et réduit les répétitions dans le code."
      ]
     },
     {
      "cell_type": "code",
      "execution_count": null,
      "metadata": {},
      "outputs": [],
      "source": [
       "#define ENUM_PRINTER(op) \\\n",
       "    case op: \\\n",
       "        printf(#op); \\\n",
       "        break;"
      ]
     },
     {
      "cell_type": "markdown",
      "metadata": {},
      "source": [
       "<br><br>\n",
       "Cette fonction utilise la macro ENUM_PRINTER pour afficher le nom d'une opération BNLowLevelILOperation. Si l'opération est invalide, elle affiche un message indiquant que l'opération n'est pas reconnue."
      ]
     },
     {
      "cell_type": "code",
      "execution_count": null,
      "metadata": {
       "vscode": {
        "languageId": "cpp"
       }
      },
      "outputs": [],
      "source": [
       "void PrintOperation(const BNLowLevelILOperation operation) {\n",
       "    switch (operation) {\n",
       "        ENUM_PRINTER(LLIL_NOP)\n",
       "        ENUM_PRINTER(LLIL_SET_REG)\n",
       "        ENUM_PRINTER(LLIL_SET_REG_SPLIT)\n",
       "        ENUM_PRINTER(LLIL_SET_FLAG)\n",
       "        ENUM_PRINTER(LLIL_LOAD)\n",
       "        ENUM_PRINTER(LLIL_STORE)\n",
       "        ENUM_PRINTER(LLIL_PUSH)\n",
       "        ENUM_PRINTER(LLIL_POP)\n",
       "        ENUM_PRINTER(LLIL_REG)\n",
       "        ENUM_PRINTER(LLIL_CONST)\n",
       "        ENUM_PRINTER(LLIL_CONST_PTR)\n",
       "        ENUM_PRINTER(LLIL_EXTERN_PTR)\n",
       "        ENUM_PRINTER(LLIL_FLAG)\n",
       "        ENUM_PRINTER(LLIL_FLAG_BIT)\n",
       "        ENUM_PRINTER(LLIL_ADD)\n",
       "        ENUM_PRINTER(LLIL_ADC)\n",
       "        ENUM_PRINTER(LLIL_SUB)\n",
       "        ENUM_PRINTER(LLIL_SBB)\n",
       "        ENUM_PRINTER(LLIL_AND)\n",
       "        ENUM_PRINTER(LLIL_OR)\n",
       "        ENUM_PRINTER(LLIL_XOR)\n",
       "        ENUM_PRINTER(LLIL_LSL)\n",
       "        ENUM_PRINTER(LLIL_LSR)\n",
       "        ENUM_PRINTER(LLIL_ASR)\n",
       "        ENUM_PRINTER(LLIL_ROL)\n",
       "        ENUM_PRINTER(LLIL_RLC)\n",
       "        ENUM_PRINTER(LLIL_ROR)\n",
       "        ENUM_PRINTER(LLIL_RRC)\n",
       "        ENUM_PRINTER(LLIL_MUL)\n",
       "        ENUM_PRINTER(LLIL_MULU_DP)\n",
       "        ENUM_PRINTER(LLIL_MULS_DP)\n",
       "        ENUM_PRINTER(LLIL_DIVU)\n",
       "        ENUM_PRINTER(LLIL_DIVU_DP)\n",
       "        ENUM_PRINTER(LLIL_DIVS)\n",
       "        ENUM_PRINTER(LLIL_DIVS_DP)\n",
       "        ENUM_PRINTER(LLIL_MODU)\n",
       "        ENUM_PRINTER(LLIL_MODU_DP)\n",
       "        ENUM_PRINTER(LLIL_MODS)\n",
       "        ENUM_PRINTER(LLIL_MODS_DP)\n",
       "        ENUM_PRINTER(LLIL_NEG)\n",
       "        ENUM_PRINTER(LLIL_NOT)\n",
       "        ENUM_PRINTER(LLIL_SX)\n",
       "        ENUM_PRINTER(LLIL_ZX)\n",
       "        ENUM_PRINTER(LLIL_LOW_PART)\n",
       "        ENUM_PRINTER(LLIL_JUMP)\n",
       "        ENUM_PRINTER(LLIL_JUMP_TO)\n",
       "        ENUM_PRINTER(LLIL_CALL)\n",
       "        ENUM_PRINTER(LLIL_CALL_STACK_ADJUST)\n",
       "        ENUM_PRINTER(LLIL_TAILCALL)\n",
       "        ENUM_PRINTER(LLIL_RET)\n",
       "        ENUM_PRINTER(LLIL_NORET)\n",
       "        ENUM_PRINTER(LLIL_IF)\n",
       "        ENUM_PRINTER(LLIL_GOTO)\n",
       "        ENUM_PRINTER(LLIL_FLAG_COND)\n",
       "        ENUM_PRINTER(LLIL_CMP_E)\n",
       "        ENUM_PRINTER(LLIL_CMP_NE)\n",
       "        ENUM_PRINTER(LLIL_CMP_SLT)\n",
       "        ENUM_PRINTER(LLIL_CMP_ULT)\n",
       "        ENUM_PRINTER(LLIL_CMP_SLE)\n",
       "        ENUM_PRINTER(LLIL_CMP_ULE)\n",
       "        ENUM_PRINTER(LLIL_CMP_SGE)\n",
       "        ENUM_PRINTER(LLIL_CMP_UGE)\n",
       "        ENUM_PRINTER(LLIL_CMP_SGT)\n",
       "        ENUM_PRINTER(LLIL_CMP_UGT)\n",
       "        ENUM_PRINTER(LLIL_TEST_BIT)\n",
       "        ENUM_PRINTER(LLIL_BOOL_TO_INT)\n",
       "        ENUM_PRINTER(LLIL_ADD_OVERFLOW)\n",
       "        ENUM_PRINTER(LLIL_SYSCALL)\n",
       "        ENUM_PRINTER(LLIL_BP)\n",
       "        ENUM_PRINTER(LLIL_TRAP)\n",
       "        ENUM_PRINTER(LLIL_UNDEF)\n",
       "        ENUM_PRINTER(LLIL_UNIMPL)\n",
       "        ENUM_PRINTER(LLIL_UNIMPL_MEM)\n",
       "        ENUM_PRINTER(LLIL_SET_REG_SSA)\n",
       "        ENUM_PRINTER(LLIL_SET_REG_SSA_PARTIAL)\n",
       "        ENUM_PRINTER(LLIL_SET_REG_SPLIT_SSA)\n",
       "        ENUM_PRINTER(LLIL_REG_SPLIT_DEST_SSA)\n",
       "        ENUM_PRINTER(LLIL_REG_SSA)\n",
       "        ENUM_PRINTER(LLIL_REG_SSA_PARTIAL)\n",
       "        ENUM_PRINTER(LLIL_SET_FLAG_SSA)\n",
       "        ENUM_PRINTER(LLIL_FLAG_SSA)\n",
       "        ENUM_PRINTER(LLIL_FLAG_BIT_SSA)\n",
       "        ENUM_PRINTER(LLIL_CALL_SSA)\n",
       "        ENUM_PRINTER(LLIL_SYSCALL_SSA)\n",
       "        ENUM_PRINTER(LLIL_TAILCALL_SSA)\n",
       "        default:\n",
       "            printf(\"<invalid operation %\" PRId32 \">\", operation);\n",
       "            break;\n",
       "    }\n",
       "}"
      ]
     },
     {
      "cell_type": "markdown",
      "metadata": {},
      "source": [
       "<br><br>\n",
       "Cette fonction affiche une condition sur les drapeaux (flags) d'une instruction IL (Intermediate Language). Elle utilise également la macro ENUM_PRINTER pour simplifier le code."
      ]
     },
     {
      "cell_type": "code",
      "execution_count": null,
      "metadata": {},
      "outputs": [],
      "source": [
       "void PrintFlagCondition(const BNLowLevelILFlagCondition cond) {\n",
       "    switch (cond) {\n",
       "        ENUM_PRINTER(LLFC_E)\n",
       "        ENUM_PRINTER(LLFC_NE)\n",
       "        ENUM_PRINTER(LLFC_SLT)\n",
       "        ENUM_PRINTER(LLFC_ULT)\n",
       "        ENUM_PRINTER(LLFC_SLE)\n",
       "        ENUM_PRINTER(LLFC_ULE)\n",
       "        ENUM_PRINTER(LLFC_SGE)\n",
       "        ENUM_PRINTER(LLFC_UGE)\n",
       "        ENUM_PRINTER(LLFC_SGT)\n",
       "        ENUM_PRINTER(LLFC_UGT)\n",
       "        ENUM_PRINTER(LLFC_NEG)\n",
       "        ENUM_PRINTER(LLFC_POS)\n",
       "        ENUM_PRINTER(LLFC_O)\n",
       "        ENUM_PRINTER(LLFC_NO)\n",
       "        default:\n",
       "            printf(\"<invalid condition>\");\n",
       "            break;\n",
       "    }\n",
       "}"
      ]
     },
     {
      "cell_type": "markdown",
      "metadata": {},
      "source": [
       "<br><br>\n",
       "Cette fonction affiche le nom d'un registre donné (reg). Si le registre est temporaire, il est affiché avec un identifiant spécifique (temp). Sinon, elle utilise le nom du registre fourni par l'architecture associée à la fonction."
      ]
     },
     {
      "cell_type": "code",
      "execution_count": null,
      "metadata": {
       "vscode": {
        "languageId": "cpp"
       }
      },
      "outputs": [],
      "source": [
       "\n",
       "void PrintRegister(const LowLevelILFunction* func, const uint32_t reg) {\n",
       "    if (LLIL_REG_IS_TEMP(reg))\n",
       "        printf(\"temp%d\", LLIL_GET_TEMP_REG_INDEX(reg));\n",
       "    else {\n",
       "        const string name = func->GetArchitecture()->GetRegisterName(reg);\n",
       "        if (name.empty())\n",
       "            printf(\"<no name>\");\n",
       "        else\n",
       "            printf(\"%s\", name.c_str());\n",
       "    }\n",
       "}"
      ]
     },
     {
      "cell_type": "markdown",
      "metadata": {},
      "source": [
       "<br><br>\n",
       "Cette fonction affiche le nom d'un drapeau (flag) ou sa valeur temporaire, si applicable. Cela permet d'identifier précisément les drapeaux utilisés dans une instruction IL."
      ]
     },
     {
      "cell_type": "code",
      "execution_count": null,
      "metadata": {},
      "outputs": [],
      "source": [
       "void PrintFlag(const LowLevelILFunction* func, const uint32_t flag) {\n",
       "    if (LLIL_REG_IS_TEMP(flag))\n",
       "        printf(\"cond:%d\", LLIL_GET_TEMP_REG_INDEX(flag));\n",
       "    else {\n",
       "        const string name = func->GetArchitecture()->GetFlagName(flag);\n",
       "        if (name.empty())\n",
       "            printf(\"<no name>\");\n",
       "        else\n",
       "            printf(\"%s\", name.c_str());\n",
       "    }\n",
       "}"
      ]
     },
     {
      "cell_type": "markdown",
      "metadata": {},
      "source": [
       "<br><br>\n",
       "Cette fonction analyse et affiche récursivement les expressions IL d'une instruction. <br>\n",
       "Elle imprime l'opération principale, les opérandes (entiers, registres, drapeaux, conditions, etc.) et applique une indentation pour refléter la structure hiérarchique de l'expression."
      ]
     },
     {
      "cell_type": "code",
      "execution_count": null,
      "metadata": {
       "vscode": {
        "languageId": "cpp"
       }
      },
      "outputs": [],
      "source": [
       "void PrintILExpr(const LowLevelILInstruction& instr, size_t indent) {\n",
       "    PrintIndent(indent);\n",
       "    PrintOperation(instr.operation);\n",
       "    printf(\"\\n\");\n",
       "\n",
       "    indent++;\n",
       "\n",
       "    for (auto& operand : instr.GetOperands()) {\n",
       "        switch (operand.GetType()) {\n",
       "            case IntegerLowLevelOperand:\n",
       "                PrintIndent(indent);\n",
       "                printf(\"int 0x%\" PRIx64 \"\\n\", operand.GetInteger());\n",
       "                break;\n",
       "\n",
       "            case IndexLowLevelOperand:\n",
       "                PrintIndent(indent);\n",
       "                printf(\"index %\" PRIdPTR \"\\n\", operand.GetIndex());\n",
       "                break;\n",
       "\n",
       "            case ExprLowLevelOperand:\n",
       "                PrintILExpr(operand.GetExpr(), indent);\n",
       "                break;\n",
       "\n",
       "            case RegisterLowLevelOperand:\n",
       "                PrintIndent(indent);\n",
       "                printf(\"reg \");\n",
       "                PrintRegister(instr.function, operand.GetRegister());\n",
       "                printf(\"\\n\");\n",
       "                break;\n",
       "\n",
       "            case FlagLowLevelOperand:\n",
       "                PrintIndent(indent);\n",
       "                printf(\"flag \");\n",
       "                PrintFlag(instr.function, operand.GetFlag());\n",
       "                printf(\"\\n\");\n",
       "                break;\n",
       "\n",
       "            case FlagConditionLowLevelOperand:\n",
       "                PrintIndent(indent);\n",
       "                printf(\"flag condition \");\n",
       "                PrintFlagCondition(operand.GetFlagCondition());\n",
       "                printf(\"\\n\");\n",
       "                break;\n",
       "\n",
       "            case SSARegisterLowLevelOperand:\n",
       "                PrintIndent(indent);\n",
       "                printf(\"ssa reg \");\n",
       "                PrintRegister(instr.function, operand.GetSSARegister().reg);\n",
       "                printf(\"#%\" PRIdPTR \"\\n\", operand.GetSSARegister().version);\n",
       "                break;\n",
       "\n",
       "            case SSAFlagLowLevelOperand:\n",
       "                PrintIndent(indent);\n",
       "                printf(\"ssa flag \");\n",
       "                PrintFlag(instr.function, operand.GetSSAFlag().flag);\n",
       "                printf(\"#%\" PRIdPTR \" \", operand.GetSSAFlag().version);\n",
       "                break;\n",
       "\n",
       "            case IndexListLowLevelOperand:\n",
       "                PrintIndent(indent);\n",
       "                printf(\"index list \");\n",
       "                for (auto i : operand.GetIndexList())\n",
       "                    printf(\"%\" PRIdPTR \" \", i);\n",
       "                printf(\"\\n\");\n",
       "                break;\n",
       "\n",
       "            case SSARegisterListLowLevelOperand:\n",
       "                PrintIndent(indent);\n",
       "                printf(\"ssa reg list \");\n",
       "                for (auto i : operand.GetSSARegisterList()) {\n",
       "                    PrintRegister(instr.function, i.reg);\n",
       "                    printf(\"#%\" PRIdPTR \" \", i.version);\n",
       "                }\n",
       "                printf(\"\\n\");\n",
       "                break;\n",
       "\n",
       "            case SSAFlagListLowLevelOperand:\n",
       "                PrintIndent(indent);\n",
       "                printf(\"ssa reg list \");\n",
       "                for (auto i : operand.GetSSAFlagList()) {\n",
       "                    PrintFlag(instr.function, i.flag);\n",
       "                    printf(\"#%\" PRIdPTR \" \", i.version);\n",
       "                }\n",
       "                printf(\"\\n\");\n",
       "                break;\n",
       "\n",
       "            default:\n",
       "                PrintIndent(indent);\n",
       "                printf(\"<invalid operand>\\n\");\n",
       "                break;\n",
       "        }\n",
       "    }\n",
       "}"
      ]
     },
     {
      "cell_type": "markdown",
      "metadata": {
       "vscode": {
        "languageId": "cmake"
       }
      },
      "source": [
       "<br><br>\n",
       "\n",
       "En résumé, ce code est conçu pour analyser et afficher de manière détaillée les instructions IL bas-niveau dans une fonction, en mettant en évidence les opérations, les registres, les drapeaux, les constantes et les relations hiérarchiques. Il est particulièrement utile pour comprendre et déboguer des programmes analysés avec Binary Ninja, mais n'implique pas de complexité particulière."
      ]
     },
     {
      "cell_type": "markdown",
      "metadata": {
       "vscode": {
        "languageId": "cmake"
       }
      },
      "source": [
       "## Parcours et analyse de fonctions\n",
       "\n",
       "Dès à présent place à l'utilisation de BinaryNinja et de nos petites fonctions d'affichage. <br>\n",
       "Même si nous sommes dans un contexte de recherche sur la deobfuscation, nous allons tout d'abord nous pencher sur des cas d'utilisations bien simple (cf. la fonction suivante)"
      ]
     },
     {
      "cell_type": "code",
      "execution_count": null,
      "metadata": {
       "vscode": {
        "languageId": "c"
       }
      },
      "outputs": [],
      "source": [
       "#include <stdio.h>\n",
       "#include <stdlib.h>\n",
       "\n",
       "int main(int argc, char* argv[])\n",
       "{\n",
       "    if(argc != 3) {\n",
       "        printf(\"Usage: %s <n1> <n2>\\n\", argv[0]);\n",
       "        return 1;\n",
       "    }\n",
       "    \n",
       "    int a = atoi(argv[1]), b = atoi(argv[2]);\n",
       "    printf(\"The result is %d\\n\", a + b);\n",
       "\n",
       "    return 0;\n",
       "}"
      ]
     },
     {
      "cell_type": "markdown",
      "metadata": {
       "vscode": {
        "languageId": "cmake"
       }
      },
      "source": [
       "Pour compiler le programme précédant: `gcc add.c -o add`\n",
       "\n",
       "Notre but ici sera d'analyser le LLIL de cette fonction réalisant une addition entre deux entrées utilisateur. <br>\n",
       "Vous pouvez bien évidemment tester le programme en locale (si l'envie vous prend) ce qui devrait donner ceci:\n",
       "\n",
       "```bash\n",
       "./add 1 -2\n",
       "> The result is -1\n",
       "```\n",
       "\n",
       "A l'aide de GDB et de la commande `disass` nous obtenons un dump de l'assembleur x86_64 de notre programme pour la fonction main"
      ]
     },
     {
      "cell_type": "code",
      "execution_count": null,
      "metadata": {
       "vscode": {
        "languageId": "nasm"
       }
      },
      "outputs": [],
      "source": [
       "0x0000000000001169 <+0>:\tendbr64 \n",
       "0x000000000000116d <+4>:\tpush   rbp\n",
       "0x000000000000116e <+5>:\tmov    rbp,rsp\n",
       "0x0000000000001171 <+8>:\tsub    rsp,0x20\n",
       "0x0000000000001175 <+12>:\tmov    DWORD PTR [rbp-0x14],edi\n",
       "0x0000000000001178 <+15>:\tmov    QWORD PTR [rbp-0x20],rsi\n",
       "0x000000000000117c <+19>:\tcmp    DWORD PTR [rbp-0x14],0x3\n",
       "0x0000000000001180 <+23>:\tje     0x11a7 <main+62>\n",
       "0x0000000000001182 <+25>:\tmov    rax,QWORD PTR [rbp-0x20]\n",
       "0x0000000000001186 <+29>:\tmov    rax,QWORD PTR [rax]\n",
       "0x0000000000001189 <+32>:\tmov    rsi,rax\n",
       "0x000000000000118c <+35>:\tlea    rax,[rip+0xe71]        # 0x2004\n",
       "0x0000000000001193 <+42>:\tmov    rdi,rax\n",
       "0x0000000000001196 <+45>:\tmov    eax,0x0\n",
       "0x000000000000119b <+50>:\tcall   0x1060 <printf@plt>\n",
       "0x00000000000011a0 <+55>:\tmov    eax,0x1\n",
       "0x00000000000011a5 <+60>:\tjmp    0x11f6 <main+141>\n",
       "0x00000000000011a7 <+62>:\tmov    rax,QWORD PTR [rbp-0x20]\n",
       "0x00000000000011ab <+66>:\tadd    rax,0x8\n",
       "0x00000000000011af <+70>:\tmov    rax,QWORD PTR [rax]\n",
       "0x00000000000011b2 <+73>:\tmov    rdi,rax\n",
       "0x00000000000011b5 <+76>:\tcall   0x1070 <atoi@plt>\n",
       "0x00000000000011ba <+81>:\tmov    DWORD PTR [rbp-0x8],eax\n",
       "0x00000000000011bd <+84>:\tmov    rax,QWORD PTR [rbp-0x20]\n",
       "0x00000000000011c1 <+88>:\tadd    rax,0x10\n",
       "0x00000000000011c5 <+92>:\tmov    rax,QWORD PTR [rax]\n",
       "0x00000000000011c8 <+95>:\tmov    rdi,rax\n",
       "0x00000000000011cb <+98>:\tcall   0x1070 <atoi@plt>\n",
       "0x00000000000011d0 <+103>:\tmov    DWORD PTR [rbp-0x4],eax\n",
       "0x00000000000011d3 <+106>:\tmov    edx,DWORD PTR [rbp-0x8]\n",
       "0x00000000000011d6 <+109>:\tmov    eax,DWORD PTR [rbp-0x4]\n",
       "0x00000000000011d9 <+112>:\tadd    eax,edx\n",
       "0x00000000000011db <+114>:\tmov    esi,eax\n",
       "0x00000000000011dd <+116>:\tlea    rax,[rip+0xe35]        # 0x2019\n",
       "0x00000000000011e4 <+123>:\tmov    rdi,rax\n",
       "0x00000000000011e7 <+126>:\tmov    eax,0x0\n",
       "0x00000000000011ec <+131>:\tcall   0x1060 <printf@plt>\n",
       "0x00000000000011f1 <+136>:\tmov    eax,0x0\n",
       "0x00000000000011f6 <+141>:\tleave  \n",
       "0x00000000000011f7 <+142>:\tret"
      ]
     },
     {
      "cell_type": "markdown",
      "metadata": {},
      "source": [
       "\n",
       "On observe que l'addition (la fonctionnalité principal de notre programme) s'effectue à l'addresse `11d9`  où l'on retrouve une addition entre:\n",
       "* une valeur chargée précédemment dans eax (cf. [rbp-0x4]) ;\n",
       "* une autre valeur chargée dans edx (cf. [rbp-0x8]]).\n",
       "\n",
       "L'interpretation intermediaire en LLIL de cette manipulation donne quelque chose comme ceci."
      ]
     },
     {
      "cell_type": "code",
      "execution_count": null,
      "metadata": {},
      "outputs": [],
      "source": [
       "17 @ 000011d0  [rbp - 4 {var_c_1}].d = eax\n",
       "18 @ 000011d3  edx = [rbp - 8 {var_10_1}].d\n",
       "19 @ 000011d6  eax = [rbp - 4 {var_c_1}].d\n",
       "20 @ 000011d9  eax = eax + edx"
      ]
     },
     {
      "cell_type": "markdown",
      "metadata": {},
      "source": [
       "<br>\n",
       "Dans Binary Ninja, le Low-Level Intermediate Language (LLIL) est représenté sous forme d'AST (Abstract Syntax Tree, ou Arbre Syntaxique Abstrait). Cette représentation facilite l'analyse des instructions machine en organisant leur structure logique sous forme d'arborescence.\n",
       "\n",
       "Un AST est une structure en arbre qui représente la syntaxe abstraite d'un programme. Chaque nœud de l'arbre correspond à une opération ou à une instruction, et ses enfants représentent ses opérandes ou ses composants. Contrairement à une simple liste d'instructions, un AST met en évidence les relations hiérarchiques et structurelles entre les différents éléments.\n",
       "\n",
       "Quelques caractéristiques principales de l'AST dans notre cas:\n",
       "* Nœuds internes : Représentent les opérations (par exemple, addition, soustraction, chargement de mémoire).\n",
       "* Feuilles : Représentent les valeurs terminales (comme des constantes ou des registres).\n",
       "* Hiérarchie : Chaque niveau de l'arbre reflète une étape de l'évaluation ou de l'exécution d'une instruction.\n",
       "\n",
       "Prenons une instruction simple en assembleur x86 :  "
      ]
     },
     {
      "cell_type": "code",
      "execution_count": null,
      "metadata": {},
      "outputs": [],
      "source": [
       "mov eax, [ebx + 4]"
      ]
     },
     {
      "cell_type": "markdown",
      "metadata": {},
      "source": [
       "<br>\n",
       "Dans le LLIL, cette instruction peut être représentée comme un AST :\n",
       "\n",
       "```log\n",
       "LLIL_SET_REG \n",
       "    reg eax\n",
       "    LLIL_LOAD\n",
       "        LLIL_ADD\n",
       "            LLIL_REG \n",
       "                reg ebx\n",
       "            CONST 4\n",
       "```\n",
       "\n",
       "Ou encore\n",
       "\n",
       "```log\n",
       "          LLIL_SET_REG\n",
       "         /           \\\n",
       "    reg: eax      LLIL_LOAD\n",
       "                        |\n",
       "                   LLIL_ADD\n",
       "                  /      \\\n",
       "           LLIL_REG      CONST 4\n",
       "            |\n",
       "        reg: ebx\n",
       "```"
      ]
     },
     {
      "cell_type": "markdown",
      "metadata": {},
      "source": [
       "<br>\n",
       "Dans le cadre de l'analyse et de la transformation des expressions arithmétiques ou logiques issues d'une désobfuscation ou d'une optimisation de code, il est souvent nécessaire de parcourir et de manipuler des arbres syntaxiques abstraits (AST). <br>\n",
       "Le module ast de Python permet de créer des AST à partir d'expressions et de les manipuler de manière structurée.<br><br>\n",
       "\n",
       "L'une des méthodes les plus efficaces pour explorer et transformer ces structures est le principe du visiteur (**visitor pattern**). <br>\n",
       "Cette approche consiste à définir une classe qui itère sur les nœuds d'un AST, permettant d'appliquer des modifications ou des analyses spécifiques à certains motifs détectés dans l'arbre. <br><br>\n",
       "\n",
       "Dans l'exemple suivant, nous utilisons un visiteur pour simplifier une expression complexe typique d'un MBA (Mixed Boolean-Arithmetic), à savoir : `((x ^ 1) + (x & 1))`. <br>\n",
       "Ce pattern peut être simplifié en une addition simple : `(x + 1)`. Cela est possible grâce à la détection de motifs spécifiques dans les nœuds de l'AST, suivie d'une transformation."
      ]
     },
     {
      "cell_type": "code",
      "execution_count": 14,
      "metadata": {},
      "outputs": [
       {
        "name": "stdout",
        "output_type": "stream",
        "text": [
         "Expression MBA : ((x ^ 1) + (x & 1))\n",
         "Expression simplifiée : x + 1\n"
        ]
       }
      ],
      "source": [
       "import ast\n",
       "\n",
       "class SimplifyAddition(ast.NodeTransformer):\n",
       "    def visit_BinOp(self, node):\n",
       "        self.generic_visit(node)\n",
       "\n",
       "        # On recherche le patterne: `((x ^ 1) + (x & 1))`\n",
       "        if isinstance(node, ast.BinOp) and isinstance(node.op, ast.Add):\n",
       "            left = node.left # (x ^ 1)\n",
       "            right = node.right # (x & 1)\n",
       "\n",
       "            # Verifie si l'enfant gauche est égal à (x ^ 1)\n",
       "            # On verifie d'abord que l'operateur est un XOR, puis que la gauche est une variable\n",
       "            if isinstance(left, ast.BinOp) and isinstance(left.op, ast.BitXor) and isinstance(left.left, ast.Name):\n",
       "                # Ensuite que la droite est une constante de valeur `1`\n",
       "                if isinstance (left.right, ast.Constant) and left.right.value == 1:\n",
       "                    xl = left.left # On stock Xl\n",
       "\n",
       "            # Verifie si l'enfant droit est égal à (x & 1)\n",
       "            # On verifie d'abord que l'operateur est un AND, puis que la gauche est une variable\n",
       "            if isinstance(right, ast.BinOp) and isinstance(right.op, ast.BitAnd) and isinstance(right.left, ast.Name):\n",
       "                # Ensuite que la droite est une constante de valeur `1`\n",
       "                if isinstance (right.right, ast.Constant) and right.right.value == 1:\n",
       "                    xr = right.left # On stock Xr\n",
       "            \n",
       "            # Nous avons récupéré X à gauche et à droite\n",
       "            # Vérifions qu'ils aient la même valeur \n",
       "            if xl.id == xr.id:\n",
       "                # On remplace le patterne recherché, par celui simplifié `(x + 1)`\n",
       "                return ast.BinOp(left=xl, op=ast.Add(), right=ast.Constant(value=1))\n",
       "        return node\n",
       "\n",
       "# Exemples\n",
       "if __name__ == \"__main__\":\n",
       "    mba = \"((x ^ 1) + (x & 1))\"\n",
       "    tree = ast.parse(mba, mode=\"eval\")\n",
       "    optz  = SimplifyAddition()\n",
       "    print(f\"Expression MBA : {mba}\")\n",
       "    print(\"Expression simplifiée : \" + ast.unparse(ast.fix_missing_locations(optz.visit(tree))))"
      ]
     },
     {
      "cell_type": "markdown",
      "metadata": {},
      "source": [
       "<br>\n",
       "\n",
       "L'API BinaryNinja propose l'usage de ces mêmes visiteurs à l'aide de fonction comme `void LowLevelILInstruction::VisitExprs (const std::function<bool(const LowLevelILInstruction &expr)> &func) const`"
      ]
     },
     {
      "cell_type": "code",
      "execution_count": null,
      "metadata": {},
      "outputs": [],
      "source": [
       "void AnalyzeFunction(const Ref<Function>& func) {\n",
       "    printf(\"\\n\"); // prettier\n",
       "\n",
       "    // Get the name of the function and display it\n",
       "    Ref<Symbol> sym = func->GetSymbol();\n",
       "    if (sym)\n",
       "        printf(\"Function %s:\\n\", sym->GetFullName().c_str());\n",
       "    else\n",
       "        printf(\"Function at 0x%\" PRIx64 \":\\n\", func->GetStart());\n",
       "\n",
       "    // Fetch the low level IL for the function\n",
       "    Ref<LowLevelILFunction> il = func->GetLowLevelIL();\n",
       "    if (!il) {\n",
       "        printf(\"    Does not have LLIL\\n\\n\");\n",
       "        return;\n",
       "    }\n",
       "\n",
       "    // Loop through all blocks in the function\n",
       "    for (auto& block : il->GetBasicBlocks()) {\n",
       "        // Loop though each instruction in the block\n",
       "        for (size_t instrIndex = block->GetStart(); instrIndex < block->GetEnd(); instrIndex++) {\n",
       "            // Fetch IL instruction\n",
       "            LowLevelILInstruction instr = (*il)[instrIndex];\n",
       "\n",
       "            // Display core's interpretation of the IL instruction\n",
       "            vector<InstructionTextToken> tokens;\n",
       "            il->GetInstructionText(func, func->GetArchitecture(), instrIndex, tokens);\n",
       "            printf(\"    %\" PRIdPTR \" @ 0x%\" PRIx64 \"  \", instrIndex, instr.address);\n",
       "            for (auto& token : tokens)\n",
       "                printf(\"%s\", token.text.c_str());\n",
       "            printf(\"\\n\");\n",
       "\n",
       "            // Generically parse the IL tree and display the parts\n",
       "            PrintILExpr(instr, 2);\n",
       "\n",
       "            // Example of using visitors to find all constants in the instruction\n",
       "            instr.VisitExprs([&](const LowLevelILInstruction& expr) {\n",
       "                switch (expr.operation) {\n",
       "                    case LLIL_CONST:\n",
       "                    case LLIL_CONST_PTR:\n",
       "                    case LLIL_EXTERN_PTR:\n",
       "                        printf(\"        Found constant 0x%\" PRIx64 \"\\n\", expr.GetConstant());\n",
       "                        return false;  // Done parsing this\n",
       "                    default:\n",
       "                        break;\n",
       "                }\n",
       "                return true;  // Parse any subexpressions\n",
       "            });\n",
       "\n",
       "            // Example of using the templated accessors for efficiently parsing load instructions\n",
       "            instr.VisitExprs([&](const LowLevelILInstruction& expr) {\n",
       "                switch (expr.operation) {\n",
       "                    case LLIL_LOAD:\n",
       "                        if (expr.GetSourceExpr<LLIL_LOAD>().operation == LLIL_CONST_PTR) {\n",
       "                            printf(\"        Loading from address 0x%\" PRIx64 \"\\n\",\n",
       "                                expr.GetSourceExpr<LLIL_LOAD>().GetConstant<LLIL_CONST_PTR>());\n",
       "                            return false;  // Done parsing this\n",
       "                        }\n",
       "                        else if (expr.GetSourceExpr<LLIL_LOAD>().operation == LLIL_EXTERN_PTR) {\n",
       "                            printf(\"        Loading from address 0x%\" PRIx64 \"\\n\",\n",
       "                                expr.GetSourceExpr<LLIL_LOAD>().GetConstant<LLIL_EXTERN_PTR>());\n",
       "                            return false;  // Done parsing this\n",
       "                        }\n",
       "                        break;\n",
       "                    default:\n",
       "                        break;\n",
       "                }\n",
       "                return true;  // Parse any subexpressions\n",
       "            });\n",
       "        }\n",
       "    }\n",
       "\n",
       "    printf(\"\\n\");\n",
       "}"
      ]
     },
     {
      "cell_type": "code",
      "execution_count": null,
      "metadata": {},
      "outputs": [],
      "source": [
       "// On applique la fonction AnalyzeFunction à toute les fonctions disponibles sur la vue actuelle\n",
       "void Test(BinaryView *bv) {\n",
       "    for (auto& func : bv->GetAnalysisFunctionList()) {\n",
       "        AnalyzeFunction(func);\n",
       "    }\n",
       "}"
      ]
     },
     {
      "cell_type": "markdown",
      "metadata": {},
      "source": [
       "<br>\n",
       "Mais nous pouvons également choisir de parcourir chaque basic block d'une fonction en particulier ainsi que les instructions la composant et rechercher le patterne de nous même sans ses visiteurs:"
      ]
     },
     {
      "cell_type": "code",
      "execution_count": null,
      "metadata": {},
      "outputs": [],
      "source": [
       "void Test2(BinaryView *bv) {\n",
       "    for (auto& func : bv->GetAnalysisFunctionList()) {\n",
       "        Ref<Symbol> sym = func->GetSymbol();\n",
       "        printf(\"%s\", sym->GetFullName().c_str());\n",
       "\n",
       "        if (sym->GetFullName() == \"main\") {\n",
       "            Ref<LowLevelILFunction> il = func->GetLowLevelIL();\n",
       "            if (!il) {\n",
       "                printf(\"    Does not have LLIL\\n\\n\");\n",
       "                return;\n",
       "            }\n",
       "\n",
       "            for (auto& block : il->GetBasicBlocks()) {\n",
       "                for (size_t instrIndex = block->GetStart(); instrIndex < block->GetEnd(); instrIndex++) {\n",
       "                    LowLevelILInstruction instr = (*il)[instrIndex];\n",
       "                    if (instr.operation == LLIL_SET_REG) {\n",
       "                        auto srcExpr = instr.GetSourceExpr<LLIL_SET_REG>();\n",
       "                        if (srcExpr.operation == LLIL_ADD) {\n",
       "                            auto leftExpr = srcExpr.GetLeftExpr<LLIL_ADD>();\n",
       "                            auto rightExpr = srcExpr.GetRightExpr<LLIL_ADD>();\n",
       "                            if (leftExpr.operation == LLIL_REG && rightExpr.operation == LLIL_REG) {\n",
       "                                printf(\"\\nProcessing instruction at 0x%\" PRIx64 \" with operation %d at block 0x%\" PRIx64 \"\\n\", instr.address, instr.operation, block->GetStart());\n",
       "                                PrintILExpr(instr, 2);\n",
       "                            }\n",
       "                        }\n",
       "                    }\n",
       "                }\n",
       "            }\n",
       "        }\n",
       "    }\n",
       "}"
      ]
     },
     {
      "cell_type": "markdown",
      "metadata": {
       "vscode": {
        "languageId": "cmake"
       }
      },
      "source": [
       "<br>\n",
       "\n",
       "Ici, la fonction `Test` permet d'afficher le LLIL de toute les fonctions sur la vue actuelle et la fonction `Test2` isole le patterne suivant\n",
       "\n",
       "```log\n",
       "Processing instruction at 0x11d9 with operation 1 at block 0x6\n",
       "        LLIL_SET_REG\n",
       "            reg eax\n",
       "            LLIL_ADD\n",
       "                LLIL_REG\n",
       "                    reg eax\n",
       "                LLIL_REG\n",
       "                    reg edx\n",
       "```\n",
       "\n",
       "Afin d'utiliser ces deux fonctions au sein de BinaryNinja nous nous devons de les enregistrés comme ci:"
      ]
     },
     {
      "cell_type": "code",
      "execution_count": null,
      "metadata": {},
      "outputs": [],
      "source": [
       "extern \"C\"\n",
       "{\n",
       "    /**\n",
       "     * @brief Get the core plugin ABI version.\n",
       "     * @return The core plugin ABI version.\n",
       "     */\n",
       "    BINARYNINJAPLUGIN uint32_t CorePluginABIVersion() { return BN_CURRENT_CORE_ABI_VERSION; }\n",
       "\n",
       "    /**\n",
       "     * @brief Initialize the core plugin.\n",
       "     * @return True if initialization is successful, false otherwise.\n",
       "     */\n",
       "    BINARYNINJAPLUGIN bool CorePluginInit()\n",
       "    {\n",
       "        PluginCommand::Register(\"eshard\\\\Test\", \"Print LLIL of all function using visitor\", Test);\n",
       "        PluginCommand::Register(\"eshard\\\\Test2\", \"Isolate an ADD manipulation in the main function with only for loops\", Test2);\n",
       "\n",
       "        return true;\n",
       "    }\n",
       "}"
      ]
     },
     {
      "cell_type": "markdown",
      "metadata": {
       "vscode": {
        "languageId": "cmake"
       }
      },
      "source": [
       "<br><br>\n",
       "\n",
       "## Patchning basique\n",
       "\n",
       "Maintenant que nous savons rechercher un patterne dans une fonction donnée, il ne nous manque plus qu'à effectuer les modifications que l'on souhaite et dans notre cas remplacer le ADD par un MUL...\n",
       "\n",
       "Ce qui devrait nous donner quelque chose comme ceci\n",
       "```log\n",
       "Processing instruction at 0x11d9 with operation 1 at block 0x6\n",
       "        LLIL_SET_REG\n",
       "            reg eax\n",
       "            LLIL_MUL\n",
       "                LLIL_REG\n",
       "                    reg eax\n",
       "                LLIL_REG\n",
       "                    reg edx\n",
       "```"
      ]
     },
     {
      "cell_type": "markdown",
      "metadata": {},
      "source": [
       "<br><br>\n",
       "Ce qui donnerai en toute logique le resultat suivant sur de l'assembleur"
      ]
     },
     {
      "cell_type": "code",
      "execution_count": null,
      "metadata": {},
      "outputs": [],
      "source": [
       "17 @ 000011d0  [rbp - 4 {var_c_1}].d = eax\n",
       "18 @ 000011d3  edx = [rbp - 8 {var_10_1}].d\n",
       "19 @ 000011d6  eax = [rbp - 4 {var_c_1}].d\n",
       "20 @ 000011d9  eax = eax * edx"
      ]
     },
     {
      "cell_type": "markdown",
      "metadata": {},
      "source": [
       "<br><br>\n",
       "La fonction suivante recherche le patterne que nous avons vu précédemment (comme pour `Test2`) et effectue le remplacement de l'expression `ADD` par une expression `MUL`"
      ]
     },
     {
      "cell_type": "code",
      "execution_count": null,
      "metadata": {
       "vscode": {
        "languageId": "cpp"
       }
      },
      "outputs": [],
      "source": [
       "void Test4(const Ref<AnalysisContext> &analysisContext) {\n",
       "    const Ref<Function> func = analysisContext->GetFunction();\n",
       "    const Ref<Symbol> sym = func->GetSymbol();\n",
       "    printf(\"%s\", sym->GetFullName().c_str());\n",
       "\n",
       "    if (sym->GetFullName() == \"main\") {\n",
       "        const Ref<LowLevelILFunction> il = func->GetLowLevelIL();\n",
       "        if (!il) {\n",
       "            printf(\"    Does not have LLIL\\n\\n\");\n",
       "            return;\n",
       "        }\n",
       "\n",
       "        for (auto& block : il->GetBasicBlocks()) {\n",
       "            for (size_t instrIndex = block->GetStart(); instrIndex < block->GetEnd(); instrIndex++) {\n",
       "                LowLevelILInstruction instr = (*il)[instrIndex];\n",
       "                if (instr.operation == LLIL_SET_REG) {\n",
       "                    auto srcExpr = instr.GetSourceExpr<LLIL_SET_REG>();\n",
       "\n",
       "                    if (srcExpr.operation == LLIL_ADD) {\n",
       "                        auto leftExpr = srcExpr.GetLeftExpr<LLIL_ADD>();\n",
       "                        auto rightExpr = srcExpr.GetRightExpr<LLIL_ADD>();\n",
       "\n",
       "                        if (leftExpr.operation == LLIL_REG && rightExpr.operation == LLIL_REG) {\n",
       "                            printf(\"\\nProcessing instruction at 0x%\" PRIx64 \" with operation %d at block 0x%\" PRIx64 \"\\n\", instr.address, instr.operation, block->GetStart());\n",
       "                            PrintILExpr(instr, 2);\n",
       "\n",
       "                            const ExprId newInstr = il->AddExpr(\n",
       "                                LLIL_MUL, srcExpr.size, srcExpr.flags,\n",
       "                                il->Register(leftExpr.size, leftExpr.GetSourceRegister()),\n",
       "                                il->Register(rightExpr.size, rightExpr.GetSourceRegister())\n",
       "                            );\n",
       "\n",
       "                            il->ReplaceExpr(srcExpr.exprIndex, newInstr);\n",
       "                            PrintILExpr(instr, 2);\n",
       "                        }\n",
       "                    }\n",
       "                }\n",
       "            }\n",
       "        }\n",
       "    }\n",
       "}"
      ]
     },
     {
      "cell_type": "markdown",
      "metadata": {},
      "source": [
       "<br><br>\n",
       "Cependant, afin de réecrire des instructions il faut s'attacher à l'analyse de binary ninja, ce qu'on appelle les workflows et les activités."
      ]
     },
     {
      "cell_type": "code",
      "execution_count": null,
      "metadata": {
       "vscode": {
        "languageId": "cpp"
       }
      },
      "outputs": [],
      "source": [
       "const Ref<Workflow> customPatcherWorkflow = Workflow::Instance(\"core.function.baseAnalysis\")->Clone(\"PatcherWorkflow\");\n",
       "customPatcherWorkflow->RegisterActivity(new Activity(\"extension.patcher\", &Test4));\n",
       "customPatcherWorkflow->Insert(\"core.function.generateMediumLevelIL\", \"extension.patcher\");\n",
       "Workflow::RegisterWorkflow(customPatcherWorkflow,\n",
       "    R\"#({\n",
       "        \"title\" : \"Test4\",\n",
       "        \"description\" : \"This analysis stands in as an example to demonstrate Binary Ninja's extensible analysis APIs.\",\n",
       "        \"targetType\" : \"function\"\n",
       "    })#\"\n",
       ");"
      ]
     },
     {
      "cell_type": "markdown",
      "metadata": {},
      "source": [
       "<br><br>\n",
       "Ici `core.function.generateMediumLevelIL` est une activité au sein du workflow `core.function.baseAnalysis`, celle-ci utilise le Lifted IL pour généré le LowLevelIL et ensuite le MediumLevelIL, nous ajoutons notre fonctionnalité sur cette activité afin de modifier le LLIL comme bon nous semble. Voici un code très simple pour lister toute les activités d'un workflow."
      ]
     },
     {
      "cell_type": "code",
      "execution_count": null,
      "metadata": {
       "vscode": {
        "languageId": "cpp"
       }
      },
      "outputs": [],
      "source": [
       "PluginCommand::Register(\"eshard\\\\Test3\", \"Print all activities\", [](BinaryView* view) {\n",
       "    const Ref<Workflow> defaultWf = Workflow::Instance(\"core.function.baseAnalysis\");\n",
       "    for (const auto& activity : defaultWf->GetSubactivities()) {\n",
       "        LogInfo(\"Activity: %s\", activity.c_str());\n",
       "    }\n",
       "});"
      ]
     },
     {
      "cell_type": "markdown",
      "metadata": {},
      "source": [
       "<br>\n",
       "Par exemple, voici toute les activités du workflow `core.function.baseAnalysis`\n",
       "\n",
       "```log\n",
       "[Default] Activity: core.function.advancedAnalysis\n",
       "[Default] Activity: core.function.advancedSelector\n",
       "[Default] Activity: core.function.analyzeAndExpandFlags\n",
       "[Default] Activity: core.function.analyzeCachedIndirectStructureReferences\n",
       "[Default] Activity: core.function.analyzeCallTypes\n",
       "[Default] Activity: core.function.analyzeCallsites\n",
       "[Default] Activity: core.function.analyzeConditionalNoReturns\n",
       "[Default] Activity: core.function.analyzeConstantReferences\n",
       "[Default] Activity: core.function.analyzeDataVariables\n",
       "[Default] Activity: core.function.analyzeDisplayTypeTypeReferences\n",
       "[Default] Activity: core.function.analyzeHLILTypeReferences\n",
       "[Default] Activity: core.function.analyzeIndirectBranches\n",
       "[Default] Activity: core.function.analyzeMLILTypeReferences\n",
       "[Default] Activity: core.function.analyzeReturns\n",
       "[Default] Activity: core.function.analyzeStackAdjustment\n",
       "[Default] Activity: core.function.analyzeStackVariableReferences\n",
       "[Default] Activity: core.function.analyzeSystemCalls\n",
       "[Default] Activity: core.function.analyzeTailCalls\n",
       "[Default] Activity: core.function.autoNameVariables\n",
       "[Default] Activity: core.function.baseAnalysis\n",
       "[Default] Activity: core.function.basicAnalysis\n",
       "[Default] Activity: core.function.basicBlockAnalysis\n",
       "[Default] Activity: core.function.checkForPureFunction\n",
       "[Default] Activity: core.function.checkForReturn\n",
       "[Default] Activity: core.function.checkForReturnWithBasicBlocksOnly\n",
       "[Default] Activity: core.function.commitAnalysisData\n",
       "[Default] Activity: core.function.controlFlowAnalysis\n",
       "[Default] Activity: core.function.findStringReferences\n",
       "[Default] Activity: core.function.finishUpdate\n",
       "[Default] Activity: core.function.fullAnalysis\n",
       "[Default] Activity: core.function.generateHighLevelIL\n",
       "[Default] Activity: core.function.generateLiftedIL\n",
       "[Default] Activity: core.function.generateMediumLevelIL\n",
       "[Default] Activity: core.function.intermediateAnalysis\n",
       "[Default] Activity: core.function.modeSelector\n",
       "[Default] Activity: core.function.processAnalysisSkip\n",
       "[Default] Activity: core.function.processCompletionState\n",
       "[Default] Activity: core.function.processConstantPointerReferences\n",
       "[Default] Activity: core.function.propagateAnalysis\n",
       "[Default] Activity: core.function.resetIndirectBranchesOnFullUpdate\n",
       "[Default] Activity: core.function.runCompletionCallbacks\n",
       "[Default] Activity: core.function.runFunctionRecognizers\n",
       "[Default] Activity: core.function.runMainFunctionDetector\n",
       "[Default] Activity: core.function.translateTailCalls\n",
       "[Default] Activity: core.function.update\n",
       "```"
      ]
     },
     {
      "attachments": {
       "0b48a94d-b69f-49a8-b70c-152d15d90c29.png": {
        "image/png": "[encoded data removed]"
       },
       "25cf8bfe-a18f-4e29-ac62-226d26a532d0.png": {
        "image/png": "[encoded data removed]"
       },
       "645facaa-bc7e-41de-9bd4-079e307ac588.png": {
        "image/png": "[encoded data removed]"
       }
      },
      "cell_type": "markdown",
      "metadata": {},
      "source": [
       "<br><br>\n",
       "Afin que cette nouvelle activité prenne place nous devons sélectionner le workflow à utiliser.\n",
       "Pour se faire on se rend dans Binary Ninja > Edit > Settings > workflow\n",
       "\n",
       "![image.png](attachment:645facaa-bc7e-41de-9bd4-079e307ac588.png)\n",
       "\n",
       "\n",
       "Nous pouvons dès à présent ouvrir le fichier binaire `add` et observons les modifications.\n",
       "\n",
       "La vue LLIL avant notre analyse modifiée: <br>\n",
       "![image.png](attachment:25cf8bfe-a18f-4e29-ac62-226d26a532d0.png)\n",
       "\n",
       "La vue LLIL après notre analyse modifiée: <br>\n",
       "![image.png](attachment:0b48a94d-b69f-49a8-b70c-152d15d90c29.png)\n",
       "\n",
       "On observe que seul la vue LLIL à subit cette modification, la vue MLIL, HLIL, assembleur, pseudo-C et pseudo-Rust possèdent toujours le ADD initial.\n",
       "\n",
       "<br>\n",
       "<br>\n",
       "<br>\n",
       "<br>\n",
       "<br>\n",
       "\n",
       "PS: Le code présenté dans ce notebook est disponible sur https://github.com/mitsuakki/bninja-recipes"
      ]
     }
    ],
    "metadata": {
     "kernelspec": {
      "display_name": "Python [conda env:base] *",
      "language": "python",
      "name": "conda-base-py"
     },
     "language_info": {
      "codemirror_mode": {
       "name": "ipython",
       "version": 3
      },
      "file_extension": ".py",
      "mimetype": "text/x-python",
      "name": "python",
      "nbconvert_exporter": "python",
      "pygments_lexer": "ipython3",
      "version": "3.10.14"
     }
    },
    "nbformat": 4,
    "nbformat_minor": 4
   }
   